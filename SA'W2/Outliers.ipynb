{
 "cells": [
  {
   "cell_type": "code",
   "execution_count": 137,
   "metadata": {},
   "outputs": [],
   "source": [
    "import numpy as np\n",
    "import matplotlib.pyplot as plt\n",
    "%matplotlib inline"
   ]
  },
  {
   "cell_type": "code",
   "execution_count": 138,
   "metadata": {},
   "outputs": [
    {
     "data": {
      "text/plain": [
       "array([ 10,  17,  17,  17,  15,  13,  10,  17,  12,  19,  12,  12,  15,\n",
       "        11,  18,  16,  15,  11,  10,  15,  16,  11,  15,  15,  17,  13,\n",
       "        10,  10,  15,  12, 107, 108, 105])"
      ]
     },
     "execution_count": 138,
     "metadata": {},
     "output_type": "execute_result"
    }
   ],
   "source": [
    "data1 = np.random.randint(10,20,size=30)\n",
    "data2= np.random.randint(105,110,size=3)\n",
    "dataset = np.concatenate((data1,data2))\n",
    "dataset"
   ]
  },
  {
   "cell_type": "markdown",
   "metadata": {},
   "source": [
    "Finding outliers using Z score"
   ]
  },
  {
   "cell_type": "code",
   "execution_count": 157,
   "metadata": {},
   "outputs": [],
   "source": [
    "outliers=[]\n",
    "def detect_outliers(data):\n",
    "    threshold=3\n",
    "    mean=np.mean(data)\n",
    "    print(mean)\n",
    "    std=np.std(data)\n",
    "    print(std)\n",
    "    \n",
    "    for i in data:\n",
    "        z_score = (i-mean)/std\n",
    "        if np.abs(z_score) > threshold:\n",
    "            outliers.append(i)\n",
    "    return outliers\n",
    "    "
   ]
  },
  {
   "cell_type": "code",
   "execution_count": 158,
   "metadata": {},
   "outputs": [
    {
     "name": "stdout",
     "output_type": "stream",
     "text": [
      "22.303030303030305\n",
      "26.8085070718853\n"
     ]
    },
    {
     "data": {
      "text/plain": [
       "[107, 108, 105]"
      ]
     },
     "execution_count": 158,
     "metadata": {},
     "output_type": "execute_result"
    }
   ],
   "source": [
    "outlier_pt = detect_outliers(dataset)\n",
    "outlier_pt"
   ]
  },
  {
   "cell_type": "markdown",
   "metadata": {},
   "source": [
    "By Using InterQuantile Range"
   ]
  },
  {
   "cell_type": "code",
   "execution_count": 169,
   "metadata": {},
   "outputs": [
    {
     "name": "stdout",
     "output_type": "stream",
     "text": [
      "12.0 17.0\n",
      "4.5 9.5\n"
     ]
    }
   ],
   "source": [
    "# Sort the data\n",
    "sorted(dataset)\n",
    "quantile1,quantile3 =  np.percentile(dataset,[25,75])\n",
    "print(quantile1,quantile3)\n",
    "## Find IQR\n",
    "iqr = quantile3-quantile1\n",
    "## Find lower and upper bound\n",
    "lb = quantile1-(1.5*iqr)\n",
    "ub = quantile3-(1.5*iqr)\n",
    "print(lb,ub)"
   ]
  },
  {
   "cell_type": "code",
   "execution_count": null,
   "metadata": {},
   "outputs": [],
   "source": []
  }
 ],
 "metadata": {
  "kernelspec": {
   "display_name": "Python 3",
   "language": "python",
   "name": "python3"
  },
  "language_info": {
   "codemirror_mode": {
    "name": "ipython",
    "version": 3
   },
   "file_extension": ".py",
   "mimetype": "text/x-python",
   "name": "python",
   "nbconvert_exporter": "python",
   "pygments_lexer": "ipython3",
   "version": "3.12.3"
  }
 },
 "nbformat": 4,
 "nbformat_minor": 2
}
